{
 "cells": [
  {
   "cell_type": "code",
   "execution_count": 28,
   "id": "53a42372-417a-4efa-9c3a-67981500be04",
   "metadata": {},
   "outputs": [],
   "source": [
    "\n",
    "import torch\n",
    "import torch.nn as nn\n"
   ]
  },
  {
   "cell_type": "code",
   "execution_count": 29,
   "id": "15627e93-9c7c-4c60-a4ff-39c36753339d",
   "metadata": {},
   "outputs": [],
   "source": [
    "\n",
    "tril_def = torch.tril( torch.ones(8, 8) )  ## [40, 40]\n"
   ]
  },
  {
   "cell_type": "code",
   "execution_count": 30,
   "id": "183215ea-19fa-4a92-8d48-4746948d2dce",
   "metadata": {},
   "outputs": [
    {
     "data": {
      "text/plain": [
       "tensor([[1., 0., 0., 0., 0., 0., 0., 0.],\n",
       "        [1., 1., 0., 0., 0., 0., 0., 0.],\n",
       "        [1., 1., 1., 0., 0., 0., 0., 0.],\n",
       "        [1., 1., 1., 1., 0., 0., 0., 0.],\n",
       "        [1., 1., 1., 1., 1., 0., 0., 0.],\n",
       "        [1., 1., 1., 1., 1., 1., 0., 0.],\n",
       "        [1., 1., 1., 1., 1., 1., 1., 0.],\n",
       "        [1., 1., 1., 1., 1., 1., 1., 1.]])"
      ]
     },
     "execution_count": 30,
     "metadata": {},
     "output_type": "execute_result"
    }
   ],
   "source": [
    "\n",
    "tril_def \n"
   ]
  },
  {
   "cell_type": "code",
   "execution_count": 31,
   "id": "c45f56bc-02d1-438a-abcf-28d9995aabba",
   "metadata": {},
   "outputs": [
    {
     "data": {
      "text/plain": [
       "torch.Size([8, 8])"
      ]
     },
     "execution_count": 31,
     "metadata": {},
     "output_type": "execute_result"
    }
   ],
   "source": [
    "\n",
    "tril_def.shape\n",
    "\n"
   ]
  },
  {
   "cell_type": "code",
   "execution_count": 32,
   "id": "f48afd61-5dca-472f-bb8a-7869cdd4d3ad",
   "metadata": {},
   "outputs": [
    {
     "data": {
      "text/plain": [
       "0.125"
      ]
     },
     "execution_count": 32,
     "metadata": {},
     "output_type": "execute_result"
    }
   ],
   "source": [
    "\n",
    "\n",
    "1/8\n"
   ]
  },
  {
   "cell_type": "code",
   "execution_count": 33,
   "id": "aad3df21-440e-4e41-a16f-76dbacf71ece",
   "metadata": {},
   "outputs": [
    {
     "name": "stdout",
     "output_type": "stream",
     "text": [
      "0.875\n",
      "0.75\n",
      "0.625\n",
      "0.5\n",
      "0.375\n",
      "0.25\n",
      "0.125\n"
     ]
    }
   ],
   "source": [
    "\n",
    "\n",
    "\n",
    "a = 1.0\n",
    "\n",
    "for i in range(1,tril_def.shape[0]):\n",
    "    a = a - 0.125\n",
    "    print(a)\n",
    "    ## tril_def[i] = tril_def[i] * a\n",
    "    \n"
   ]
  },
  {
   "cell_type": "code",
   "execution_count": 34,
   "id": "c6b85195-8379-40fd-a2ba-02e2fc7b96e6",
   "metadata": {},
   "outputs": [],
   "source": [
    "\n",
    "a = 1.0\n",
    "\n",
    "for i in range(1,tril_def.shape[0]):\n",
    "    a = a - 0.10\n",
    "    ## print(a)\n",
    "    tril_def[:,i] = tril_def[:,i] * a\n"
   ]
  },
  {
   "cell_type": "code",
   "execution_count": 35,
   "id": "55203769-c6c4-49f5-8144-cd183ab92d2c",
   "metadata": {},
   "outputs": [
    {
     "data": {
      "text/plain": [
       "torch.Size([8, 8])"
      ]
     },
     "execution_count": 35,
     "metadata": {},
     "output_type": "execute_result"
    }
   ],
   "source": [
    "\n",
    "tril_def.shape\n"
   ]
  },
  {
   "cell_type": "code",
   "execution_count": 36,
   "id": "0ebea133-9d91-4666-b5dc-933ab05e725a",
   "metadata": {},
   "outputs": [
    {
     "data": {
      "text/plain": [
       "tensor([[1.0000, 0.0000, 0.0000, 0.0000, 0.0000, 0.0000, 0.0000, 0.0000],\n",
       "        [1.0000, 0.9000, 0.0000, 0.0000, 0.0000, 0.0000, 0.0000, 0.0000],\n",
       "        [1.0000, 0.9000, 0.8000, 0.0000, 0.0000, 0.0000, 0.0000, 0.0000],\n",
       "        [1.0000, 0.9000, 0.8000, 0.7000, 0.0000, 0.0000, 0.0000, 0.0000],\n",
       "        [1.0000, 0.9000, 0.8000, 0.7000, 0.6000, 0.0000, 0.0000, 0.0000],\n",
       "        [1.0000, 0.9000, 0.8000, 0.7000, 0.6000, 0.5000, 0.0000, 0.0000],\n",
       "        [1.0000, 0.9000, 0.8000, 0.7000, 0.6000, 0.5000, 0.4000, 0.0000],\n",
       "        [1.0000, 0.9000, 0.8000, 0.7000, 0.6000, 0.5000, 0.4000, 0.3000]])"
      ]
     },
     "execution_count": 36,
     "metadata": {},
     "output_type": "execute_result"
    }
   ],
   "source": [
    "\n",
    "tril_def\n"
   ]
  },
  {
   "cell_type": "code",
   "execution_count": null,
   "id": "ed1f19a9-f33c-43aa-918e-58780ad597ea",
   "metadata": {},
   "outputs": [],
   "source": []
  },
  {
   "cell_type": "code",
   "execution_count": null,
   "id": "b83889d0-7b34-4732-9851-2cb888983957",
   "metadata": {},
   "outputs": [],
   "source": []
  },
  {
   "cell_type": "code",
   "execution_count": null,
   "id": "f4ae5a36-5afc-41e2-a076-2c2aee9428ce",
   "metadata": {},
   "outputs": [],
   "source": []
  },
  {
   "cell_type": "code",
   "execution_count": null,
   "id": "1b78780e-b317-471f-80c3-64c4468b7127",
   "metadata": {},
   "outputs": [],
   "source": []
  },
  {
   "cell_type": "code",
   "execution_count": null,
   "id": "7c686a59-c5d3-4bbd-9829-6b2e0c1e834d",
   "metadata": {},
   "outputs": [],
   "source": []
  },
  {
   "cell_type": "code",
   "execution_count": null,
   "id": "7f42ee11-38c4-40c7-a39e-279e3377fdb7",
   "metadata": {},
   "outputs": [],
   "source": []
  },
  {
   "cell_type": "code",
   "execution_count": null,
   "id": "7c7e9de7-61d0-488b-849a-c0fa5accb7a3",
   "metadata": {},
   "outputs": [],
   "source": []
  },
  {
   "cell_type": "code",
   "execution_count": null,
   "id": "ca275c23-58e3-4da6-b7c8-1bdcc4f9f118",
   "metadata": {},
   "outputs": [],
   "source": []
  },
  {
   "cell_type": "code",
   "execution_count": null,
   "id": "7d62fdb3-eb74-4fc5-84b9-d5a45352764b",
   "metadata": {},
   "outputs": [],
   "source": []
  },
  {
   "cell_type": "code",
   "execution_count": null,
   "id": "3cad6fe3-0691-4526-bf85-626e0c6c16c5",
   "metadata": {},
   "outputs": [],
   "source": []
  },
  {
   "cell_type": "code",
   "execution_count": null,
   "id": "1c7f302c-898d-48a1-b8ca-4df417ccaeba",
   "metadata": {},
   "outputs": [],
   "source": []
  },
  {
   "cell_type": "code",
   "execution_count": null,
   "id": "ce07acaa-54f2-4254-92e1-64dcdaeae816",
   "metadata": {},
   "outputs": [],
   "source": []
  },
  {
   "cell_type": "code",
   "execution_count": null,
   "id": "8e50bfc3-74de-4049-8079-cd4fe30d3a26",
   "metadata": {},
   "outputs": [],
   "source": []
  },
  {
   "cell_type": "code",
   "execution_count": null,
   "id": "b55eda2a-5fcb-4f49-95b5-cda574838c7a",
   "metadata": {},
   "outputs": [],
   "source": []
  },
  {
   "cell_type": "code",
   "execution_count": null,
   "id": "6d360726-dd7f-4629-9ad1-22225293be89",
   "metadata": {},
   "outputs": [],
   "source": []
  },
  {
   "cell_type": "code",
   "execution_count": null,
   "id": "2abc7286-24ea-4585-9a2d-891ae7d8932b",
   "metadata": {},
   "outputs": [],
   "source": []
  },
  {
   "cell_type": "code",
   "execution_count": null,
   "id": "a4178299-e506-42c7-9f43-0214016db49e",
   "metadata": {},
   "outputs": [],
   "source": []
  }
 ],
 "metadata": {
  "kernelspec": {
   "display_name": "Python 3 (ipykernel)",
   "language": "python",
   "name": "python3"
  },
  "language_info": {
   "codemirror_mode": {
    "name": "ipython",
    "version": 3
   },
   "file_extension": ".py",
   "mimetype": "text/x-python",
   "name": "python",
   "nbconvert_exporter": "python",
   "pygments_lexer": "ipython3",
   "version": "3.8.20"
  }
 },
 "nbformat": 4,
 "nbformat_minor": 5
}
